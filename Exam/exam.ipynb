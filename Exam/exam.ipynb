{
 "cells": [
  {
   "cell_type": "markdown",
   "metadata": {},
   "source": [
    "# Exam\n",
    "\n",
    "During the exam we will analyze League of Legends match data. You will have 10 tasks to complete over `2` hours. You can use any resources you need (internet, notes, documentation), but you must complete the task alone - violation will be severly punished. To pass you need `60%` correct answers. You need to post the exam in your repository until `17:15`. If you post your answers after `17:15`, you won't be graded based on your repository notebook work and will receive a grade of `2`.\n",
    "\n",
    "### Grading\n",
    "\n",
    "| Points | Grade |\n",
    "| :-- | :-- |\n",
    "| 6 | 3 |\n",
    "| 7 | 3.5 |\n",
    "| 8 | 4 |\n",
    "| 9 | 4.5 |\n",
    "| 10 | 5 |\n",
    "\n",
    "Each task can get between `0` and `1` points. So, if you do only a couple of things correct you can get eg. `0.6` points."
   ]
  },
  {
   "cell_type": "code",
   "execution_count": 1,
   "metadata": {},
   "outputs": [],
   "source": [
    "# Your student id here\n",
    "student_id = None"
   ]
  },
  {
   "cell_type": "code",
   "execution_count": 2,
   "metadata": {},
   "outputs": [],
   "source": [
    "# Import libraries you will use here"
   ]
  },
  {
   "cell_type": "code",
   "execution_count": 3,
   "metadata": {},
   "outputs": [],
   "source": [
    "# Set seaborn coloring"
   ]
  },
  {
   "cell_type": "markdown",
   "metadata": {},
   "source": [
    "## Task 1\n",
    "\n",
    "`[0.4]` Import the csv file `high_diamond_ranked_10min.csv` to a variable `lol_data`. Set the index column to `gameId`. "
   ]
  },
  {
   "cell_type": "code",
   "execution_count": 4,
   "metadata": {},
   "outputs": [],
   "source": [
    "# Your code here"
   ]
  },
  {
   "cell_type": "markdown",
   "metadata": {},
   "source": [
    "`[0.2]` Display random 10 rows from the dataset."
   ]
  },
  {
   "cell_type": "code",
   "execution_count": 5,
   "metadata": {},
   "outputs": [],
   "source": [
    "# Your code here"
   ]
  },
  {
   "cell_type": "markdown",
   "metadata": {},
   "source": [
    "`[0.2]` Display the information about the dataset - columns, dtypes, etc."
   ]
  },
  {
   "cell_type": "code",
   "execution_count": 6,
   "metadata": {},
   "outputs": [],
   "source": [
    "# Your code here"
   ]
  },
  {
   "cell_type": "markdown",
   "metadata": {},
   "source": [
    "`[0.2]` Display statistical information about the dataset - mean, quartiles, etc."
   ]
  },
  {
   "cell_type": "code",
   "execution_count": 7,
   "metadata": {},
   "outputs": [],
   "source": [
    "# Your code here"
   ]
  },
  {
   "cell_type": "markdown",
   "metadata": {},
   "source": [
    "## Task 2\n",
    "\n",
    "`[0.2]` Create a new column `whoWon` which contains `\"red\"` or `\"blue\"` based on the `blueWins` column."
   ]
  },
  {
   "cell_type": "code",
   "execution_count": 8,
   "metadata": {},
   "outputs": [],
   "source": [
    "# Your code here"
   ]
  },
  {
   "cell_type": "markdown",
   "metadata": {},
   "source": [
    "`[0.2]` Create a new column `firstKill` which contains `\"red\"` or `\"blue\"` based on either `blueFirstBlood` or `redFirstBlood`."
   ]
  },
  {
   "cell_type": "code",
   "execution_count": 9,
   "metadata": {},
   "outputs": [],
   "source": [
    "# Your code here"
   ]
  },
  {
   "cell_type": "markdown",
   "metadata": {},
   "source": [
    "`[0.1]` Set the dtype of the `whoWon` and `firstKill` to categorical."
   ]
  },
  {
   "cell_type": "code",
   "execution_count": 10,
   "metadata": {},
   "outputs": [],
   "source": [
    "# Your code here"
   ]
  },
  {
   "cell_type": "markdown",
   "metadata": {},
   "source": [
    "`[0.5]` Cast all `float` columns to `int`, while setting each value to its ceiling."
   ]
  },
  {
   "cell_type": "code",
   "execution_count": 11,
   "metadata": {},
   "outputs": [],
   "source": [
    "# Your code here"
   ]
  },
  {
   "cell_type": "markdown",
   "metadata": {},
   "source": [
    "## Task 3\n",
    "\n",
    "`[1.0]` Create two new columns: `blueFinalWards` and `redFinalWards` that are calculated in the following manner:\n",
    "\n",
    "```\n",
    "blueFinalWards = blueWardsPlaced - redWardsDestroyed\n",
    "redFinalWards = redWardsPlaced - blueWardsDestroyed\n",
    "```"
   ]
  },
  {
   "cell_type": "code",
   "execution_count": 12,
   "metadata": {},
   "outputs": [],
   "source": [
    "# Your code here"
   ]
  },
  {
   "cell_type": "markdown",
   "metadata": {},
   "source": [
    "## Task 4\n",
    "\n",
    "`[0.5]` Create two new columns: `blueMinionsKilledOutsideJungle` and `redMinionsKilledOutsideJungle` which is a difference of two specific columns in the dataset and save it to the variable `lol_data_updated`."
   ]
  },
  {
   "cell_type": "code",
   "execution_count": 13,
   "metadata": {},
   "outputs": [],
   "source": [
    "# Your code here"
   ]
  },
  {
   "cell_type": "markdown",
   "metadata": {},
   "source": [
    "`[0.5]` Remove the following columns: `blueTotalMinionsKilled`, `redTotalMinionsKilled`, `blueTotalJungleMinionsKilled`, `redTotalJungleMinionsKilled` and save this to the previous variable."
   ]
  },
  {
   "cell_type": "code",
   "execution_count": 14,
   "metadata": {},
   "outputs": [],
   "source": [
    "# Your code here"
   ]
  },
  {
   "cell_type": "markdown",
   "metadata": {},
   "source": [
    "## Task 5\n",
    "\n",
    "`[0.8]` Create a new variable `lol_data_group` where you groupby `whoWon` and `firstKill`, with the following aggregations:\n",
    "\n",
    "- `blueTotalGold` - sum\n",
    "- `redTotalGold` -  sum\n",
    "- `blueKills` - mean\n",
    "- `redKills` - mean\n",
    "- `blueGoldPerMin` - max\n",
    "- `redGoldPerMin` - min"
   ]
  },
  {
   "cell_type": "code",
   "execution_count": 15,
   "metadata": {},
   "outputs": [],
   "source": [
    "# Your code here"
   ]
  },
  {
   "cell_type": "markdown",
   "metadata": {},
   "source": [
    "`[0.2]` **Rename** (use good function here) the columns of `lol_data_group` to `blueTotalGoldSum`, `redTotalGoldSum`, `blueKillsMean`, `redKillsMean`, `blueGoldPerMinMax`, `redGoldPerMinMin`."
   ]
  },
  {
   "cell_type": "code",
   "execution_count": 16,
   "metadata": {},
   "outputs": [],
   "source": [
    "# Your code here"
   ]
  },
  {
   "cell_type": "markdown",
   "metadata": {},
   "source": [
    "## Task 6\n",
    "\n",
    "`[1.0]` Melt the DataFrame where the id variables are the index and value vars are `blueHeralds`, `redHeralds`, `blueDragons`, `redDragons`, `blueEliteMonsters` and `redEliteMonsters`. Save the result as `lol_data_melt`.\n",
    "\n",
    "*Hint: you can use `reset_index()` to achieve a correct melt.*"
   ]
  },
  {
   "cell_type": "code",
   "execution_count": 17,
   "metadata": {},
   "outputs": [],
   "source": [
    "# Your code here"
   ]
  },
  {
   "cell_type": "markdown",
   "metadata": {},
   "source": [
    "## Task 7\n",
    "\n",
    "`[1.0]` Create a seaborn `barplot` of the `lol_data_melt` where `x` is the variable, and `y` is the value."
   ]
  },
  {
   "cell_type": "code",
   "execution_count": 18,
   "metadata": {},
   "outputs": [],
   "source": [
    "# Your code here"
   ]
  },
  {
   "cell_type": "markdown",
   "metadata": {},
   "source": [
    "## Task 8\n",
    "\n",
    "`[1.0]` Create a seaborn `scatterplot` of `lol_data`.\n",
    "\n",
    "- For `x` select `blueGoldPerMin`,\n",
    "- For `y` select `redGoldPerMin`, \n",
    "- Color the graph by `whoWon`,\n",
    "- Change dots to be different based on `firstKill` (dots and crosses)."
   ]
  },
  {
   "cell_type": "code",
   "execution_count": 19,
   "metadata": {},
   "outputs": [],
   "source": [
    "# Your code here"
   ]
  },
  {
   "cell_type": "markdown",
   "metadata": {},
   "source": [
    "## Task 9\n",
    "\n",
    "`[0.5]` Create a horizontal `matplotlib` subplot that holds two distribution plots using seaborn for `lol_data`: `redCSPerMin` and `blueCSPerMin`."
   ]
  },
  {
   "cell_type": "code",
   "execution_count": 20,
   "metadata": {},
   "outputs": [],
   "source": [
    "# Your code here"
   ]
  },
  {
   "cell_type": "markdown",
   "metadata": {},
   "source": [
    "`[0.5]` Create a seaborn `boxplot` using `lol_data` for the `blueAvgLevel` column depending on `whoWon`."
   ]
  },
  {
   "cell_type": "code",
   "execution_count": 21,
   "metadata": {},
   "outputs": [],
   "source": [
    "# Your code here"
   ]
  },
  {
   "cell_type": "markdown",
   "metadata": {},
   "source": [
    "## Task 10\n",
    "\n",
    "`[1.0]` Create a triangle (half square) seaborn `clustermap` of the `lol_data` correlations.\n",
    "\n",
    "- Change the color palette to \"mako\"\n",
    "\n",
    "*Hint: You can check stack overflow how to create masks using `numpy`.*"
   ]
  },
  {
   "cell_type": "code",
   "execution_count": 22,
   "metadata": {},
   "outputs": [],
   "source": [
    "# Your code here"
   ]
  }
 ],
 "metadata": {
  "kernelspec": {
   "display_name": "Python 3.7.7 64-bit ('data-science': conda)",
   "language": "python",
   "name": "python37764bitdatascienceconda6539e6d3690444dbb250eb590302b267"
  },
  "language_info": {
   "codemirror_mode": {
    "name": "ipython",
    "version": 3
   },
   "file_extension": ".py",
   "mimetype": "text/x-python",
   "name": "python",
   "nbconvert_exporter": "python",
   "pygments_lexer": "ipython3",
   "version": "3.7.7"
  }
 },
 "nbformat": 4,
 "nbformat_minor": 4
}
